{
 "cells": [
  {
   "cell_type": "markdown",
   "metadata": {},
   "source": [
    "This notebook creates a very simple deep learning model as a first approach to solve captcha image to text problem <br/>\n"
   ]
  },
  {
   "cell_type": "markdown",
   "metadata": {},
   "source": [
    "The model performs a <b>multi-label & multi-class classification</b> <br/>\n",
    "It has <b>5 softmax output layers</b> (each of them classifies one alphanumeric character of the captcha images) <br/>\n",
    "To compute the loss function, categorical cross-entropy is used for each output layer and the results are averaged <br/>\n",
    "The input layer has a tensor of size nx50x200x1 where n is the batch size <br/>\n",
    "<b>Convolutional, pooling, batch normalization, dropout and dense</b> layers are used to define the inner topology of the network"
   ]
  },
  {
   "cell_type": "code",
   "execution_count": 1,
   "metadata": {},
   "outputs": [
    {
     "name": "stderr",
     "output_type": "stream",
     "text": [
      "Using TensorFlow backend.\n"
     ]
    }
   ],
   "source": [
    "import matplotlib.pyplot as plt\n",
    "import pandas as pd\n",
    "import numpy as np\n",
    "\n",
    "import keras\n",
    "import keras.backend as K\n",
    "from keras.layers import *\n",
    "from keras.models import Model, Sequential\n",
    "from keras.optimizers import Adam, RMSprop\n",
    "from keras.callbacks import *\n",
    "from sklearn.model_selection import train_test_split\n",
    "from keras.losses import categorical_crossentropy\n",
    "from sklearn.metrics import accuracy_score, confusion_matrix\n",
    "\n",
    "%matplotlib inline"
   ]
  },
  {
   "cell_type": "markdown",
   "metadata": {},
   "source": [
    "Load the preprocessed dataset"
   ]
  },
  {
   "cell_type": "code",
   "execution_count": 2,
   "metadata": {},
   "outputs": [],
   "source": [
    "data = np.load('/floyd/home/processed-data.npz')"
   ]
  },
  {
   "cell_type": "code",
   "execution_count": 3,
   "metadata": {},
   "outputs": [],
   "source": [
    "X, y = data['X'], data['y']"
   ]
  },
  {
   "cell_type": "code",
   "execution_count": 4,
   "metadata": {},
   "outputs": [
    {
     "data": {
      "text/plain": [
       "(1070, 50, 200, 1)"
      ]
     },
     "execution_count": 4,
     "metadata": {},
     "output_type": "execute_result"
    }
   ],
   "source": [
    "X.shape"
   ]
  },
  {
   "cell_type": "code",
   "execution_count": 5,
   "metadata": {},
   "outputs": [
    {
     "data": {
      "text/plain": [
       "(5, 36, 1070)"
      ]
     },
     "execution_count": 5,
     "metadata": {},
     "output_type": "execute_result"
    }
   ],
   "source": [
    "y.shape"
   ]
  },
  {
   "cell_type": "code",
   "execution_count": 6,
   "metadata": {},
   "outputs": [],
   "source": [
    "y = y.swapaxes(0,2).swapaxes(1, 2)"
   ]
  },
  {
   "cell_type": "code",
   "execution_count": 7,
   "metadata": {},
   "outputs": [
    {
     "data": {
      "text/plain": [
       "(1070, 5, 36)"
      ]
     },
     "execution_count": 7,
     "metadata": {},
     "output_type": "execute_result"
    }
   ],
   "source": [
    "y.shape"
   ]
  },
  {
   "cell_type": "code",
   "execution_count": 8,
   "metadata": {},
   "outputs": [
    {
     "data": {
      "text/plain": [
       "1070"
      ]
     },
     "execution_count": 8,
     "metadata": {},
     "output_type": "execute_result"
    }
   ],
   "source": [
    "np.count_nonzero(y[:, 0, :])"
   ]
  },
  {
   "cell_type": "markdown",
   "metadata": {},
   "source": [
    "Now we build the model. We are going to use convolutional, pooling, batch normalization and dropout fro the first layers <br/>"
   ]
  },
  {
   "cell_type": "code",
   "execution_count": 11,
   "metadata": {},
   "outputs": [],
   "source": [
    "K.clear_session()\n",
    "t_in = Input(shape=(50, 200, 1), name='input')\n",
    "\n",
    "# CONV + RELU + BN + POOLING + DROPOUT\n",
    "t_conv = Conv2D(32, (3, 3), activation='relu', name='conv1')(t_in)\n",
    "t_norm = BatchNormalization(name='bn1')(t_conv)\n",
    "t_pool = MaxPool2D((2, 2), name='pool1')(t_norm)\n",
    "t_drop = Dropout(0.25, name='drop1')(t_pool)\n",
    "\n",
    "# CONV + RELU + BN + POOLING + DROPOUT\n",
    "t_conv2 = Conv2D(16, (3, 3), activation='relu', name='conv2')(t_drop)\n",
    "t_norm2 = BatchNormalization(name='bn2')(t_conv2)\n",
    "t_pool2 = MaxPool2D((2, 2), name='pool2')(t_norm2)\n",
    "t_drop2 = Dropout(0.25, name='drop2')(t_pool2)\n",
    "\n",
    "# CONV + RELU + BN + POOLING + DROPOUT + FLATTEN\n",
    "t_conv3 = Conv2D(8, (3, 3), activation='relu', name='conv3')(t_drop2)\n",
    "t_norm3 = BatchNormalization(name='bn3')(t_conv3)\n",
    "t_drop3 = Dropout(0.25, name='drop3')(t_norm3)"
   ]
  },
  {
   "cell_type": "markdown",
   "metadata": {},
   "source": [
    "Now for each of the 5 outputs (1 per character in the text) we create a branch on the model <br/>\n",
    "Each branch will have a dense layer followed by softmax"
   ]
  },
  {
   "cell_type": "code",
   "execution_count": 18,
   "metadata": {},
   "outputs": [],
   "source": [
    "t_flatten = Flatten(name='flatten')(t_drop2)"
   ]
  },
  {
   "cell_type": "code",
   "execution_count": 19,
   "metadata": {},
   "outputs": [],
   "source": [
    "t_dense = [Dense(64, activation='relu',\n",
    "                 kernel_initializer='random_uniform', name='dense2-{}'.format(k))(t_flatten)\n",
    "           for k in range(0, 5)]"
   ]
  },
  {
   "cell_type": "code",
   "execution_count": 20,
   "metadata": {},
   "outputs": [
    {
     "data": {
      "text/plain": [
       "<tf.Tensor 'dense2-0_1/Relu:0' shape=(?, 64) dtype=float32>"
      ]
     },
     "execution_count": 20,
     "metadata": {},
     "output_type": "execute_result"
    }
   ],
   "source": [
    "t_dense[0]"
   ]
  },
  {
   "cell_type": "code",
   "execution_count": 21,
   "metadata": {},
   "outputs": [],
   "source": [
    "t_soft = [Dense(36, activation='softmax', kernel_initializer='random_uniform',\n",
    "               name='char_{}'.format(k))(t_dense[k])\n",
    "         for k in range(0, 5)]"
   ]
  },
  {
   "cell_type": "code",
   "execution_count": 22,
   "metadata": {},
   "outputs": [
    {
     "data": {
      "text/plain": [
       "<tf.Tensor 'char_0_1/Softmax:0' shape=(?, 36) dtype=float32>"
      ]
     },
     "execution_count": 22,
     "metadata": {},
     "output_type": "execute_result"
    }
   ],
   "source": [
    "t_soft[0]"
   ]
  },
  {
   "cell_type": "code",
   "execution_count": 23,
   "metadata": {},
   "outputs": [],
   "source": [
    "model = Model(inputs=[t_in], outputs=t_soft)"
   ]
  },
  {
   "cell_type": "code",
   "execution_count": 24,
   "metadata": {},
   "outputs": [
    {
     "name": "stdout",
     "output_type": "stream",
     "text": [
      "__________________________________________________________________________________________________\n",
      "Layer (type)                    Output Shape         Param #     Connected to                     \n",
      "==================================================================================================\n",
      "input (InputLayer)              (None, 50, 200, 1)   0                                            \n",
      "__________________________________________________________________________________________________\n",
      "conv1 (Conv2D)                  (None, 48, 198, 32)  320         input[0][0]                      \n",
      "__________________________________________________________________________________________________\n",
      "bn1 (BatchNormalization)        (None, 48, 198, 32)  128         conv1[0][0]                      \n",
      "__________________________________________________________________________________________________\n",
      "pool1 (MaxPooling2D)            (None, 24, 99, 32)   0           bn1[0][0]                        \n",
      "__________________________________________________________________________________________________\n",
      "drop1 (Dropout)                 (None, 24, 99, 32)   0           pool1[0][0]                      \n",
      "__________________________________________________________________________________________________\n",
      "conv2 (Conv2D)                  (None, 22, 97, 16)   4624        drop1[0][0]                      \n",
      "__________________________________________________________________________________________________\n",
      "bn2 (BatchNormalization)        (None, 22, 97, 16)   64          conv2[0][0]                      \n",
      "__________________________________________________________________________________________________\n",
      "pool2 (MaxPooling2D)            (None, 11, 48, 16)   0           bn2[0][0]                        \n",
      "__________________________________________________________________________________________________\n",
      "drop2 (Dropout)                 (None, 11, 48, 16)   0           pool2[0][0]                      \n",
      "__________________________________________________________________________________________________\n",
      "flatten (Flatten)               (None, 8448)         0           drop2[0][0]                      \n",
      "__________________________________________________________________________________________________\n",
      "dense2-0 (Dense)                (None, 64)           540736      flatten[0][0]                    \n",
      "__________________________________________________________________________________________________\n",
      "dense2-1 (Dense)                (None, 64)           540736      flatten[0][0]                    \n",
      "__________________________________________________________________________________________________\n",
      "dense2-2 (Dense)                (None, 64)           540736      flatten[0][0]                    \n",
      "__________________________________________________________________________________________________\n",
      "dense2-3 (Dense)                (None, 64)           540736      flatten[0][0]                    \n",
      "__________________________________________________________________________________________________\n",
      "dense2-4 (Dense)                (None, 64)           540736      flatten[0][0]                    \n",
      "__________________________________________________________________________________________________\n",
      "char_0 (Dense)                  (None, 36)           2340        dense2-0[0][0]                   \n",
      "__________________________________________________________________________________________________\n",
      "char_1 (Dense)                  (None, 36)           2340        dense2-1[0][0]                   \n",
      "__________________________________________________________________________________________________\n",
      "char_2 (Dense)                  (None, 36)           2340        dense2-2[0][0]                   \n",
      "__________________________________________________________________________________________________\n",
      "char_3 (Dense)                  (None, 36)           2340        dense2-3[0][0]                   \n",
      "__________________________________________________________________________________________________\n",
      "char_4 (Dense)                  (None, 36)           2340        dense2-4[0][0]                   \n",
      "==================================================================================================\n",
      "Total params: 2,720,516\n",
      "Trainable params: 2,720,420\n",
      "Non-trainable params: 96\n",
      "__________________________________________________________________________________________________\n"
     ]
    }
   ],
   "source": [
    "model.summary()"
   ]
  },
  {
   "cell_type": "markdown",
   "metadata": {},
   "source": [
    "Now we compile the model"
   ]
  },
  {
   "cell_type": "code",
   "execution_count": 42,
   "metadata": {},
   "outputs": [],
   "source": [
    "model.compile(optimizer=RMSprop(), loss=['categorical_crossentropy'] * 5)"
   ]
  },
  {
   "cell_type": "code",
   "execution_count": 43,
   "metadata": {},
   "outputs": [
    {
     "data": {
      "text/plain": [
       "(5, (1, 36))"
      ]
     },
     "execution_count": 43,
     "metadata": {},
     "output_type": "execute_result"
    }
   ],
   "source": [
    "out = model.predict(X[0:1, :, :, 0].reshape([1, 50, 200, 1]))\n",
    "len(out), out[0].shape"
   ]
  },
  {
   "cell_type": "markdown",
   "metadata": {},
   "source": [
    "Split the data into training & test sets"
   ]
  },
  {
   "cell_type": "code",
   "execution_count": 44,
   "metadata": {},
   "outputs": [],
   "source": [
    "X_train, X_test, y_train, y_test = train_test_split(X, y, test_size=0.15, shuffle=True, random_state=13)"
   ]
  },
  {
   "cell_type": "code",
   "execution_count": 45,
   "metadata": {},
   "outputs": [
    {
     "data": {
      "text/plain": [
       "((909, 50, 200, 1), (161, 50, 200, 1))"
      ]
     },
     "execution_count": 45,
     "metadata": {},
     "output_type": "execute_result"
    }
   ],
   "source": [
    "X_train.shape, X_test.shape"
   ]
  },
  {
   "cell_type": "code",
   "execution_count": 46,
   "metadata": {},
   "outputs": [
    {
     "data": {
      "text/plain": [
       "((909, 5, 36), (161, 5, 36))"
      ]
     },
     "execution_count": 46,
     "metadata": {},
     "output_type": "execute_result"
    }
   ],
   "source": [
    "y_train.shape, y_test.shape"
   ]
  },
  {
   "cell_type": "markdown",
   "metadata": {},
   "source": [
    "Train the model"
   ]
  },
  {
   "cell_type": "code",
   "execution_count": 47,
   "metadata": {},
   "outputs": [
    {
     "name": "stdout",
     "output_type": "stream",
     "text": [
      "Epoch 1/5\n",
      "909/909 [==============================] - 32s 35ms/step - loss: 27.2271 - char_0_loss: 2.9555 - char_1_loss: 2.9592 - char_2_loss: 2.9578 - char_3_loss: 2.9636 - char_4_loss: 15.3911\n",
      "Epoch 2/5\n",
      "909/909 [==============================] - 30s 33ms/step - loss: 27.2004 - char_0_loss: 2.9550 - char_1_loss: 2.9526 - char_2_loss: 2.9513 - char_3_loss: 2.9503 - char_4_loss: 15.3911\n",
      "Epoch 3/5\n",
      "909/909 [==============================] - 31s 34ms/step - loss: 27.1833 - char_0_loss: 2.9544 - char_1_loss: 2.9461 - char_2_loss: 2.9413 - char_3_loss: 2.9503 - char_4_loss: 15.3911\n",
      "Epoch 4/5\n",
      "909/909 [==============================] - 31s 34ms/step - loss: 15.2124 - char_0_loss: 2.9604 - char_1_loss: 2.9576 - char_2_loss: 2.9464 - char_3_loss: 2.9506 - char_4_loss: 3.3974\n",
      "Epoch 5/5\n",
      "909/909 [==============================] - 31s 34ms/step - loss: 15.3663 - char_0_loss: 2.9460 - char_1_loss: 2.9423 - char_2_loss: 2.9339 - char_3_loss: 2.9516 - char_4_loss: 3.5925\n"
     ]
    }
   ],
   "source": [
    "history = model.fit(X_train, [y_train[:, k, :] for k in range(0, 5)],\n",
    "                    epochs=5, batch_size=2, verbose=True,\n",
    "                    callbacks=[])"
   ]
  },
  {
   "cell_type": "code",
   "execution_count": 63,
   "metadata": {},
   "outputs": [
    {
     "data": {
      "text/plain": [
       "[<matplotlib.lines.Line2D at 0x7f06d469e278>]"
      ]
     },
     "execution_count": 63,
     "metadata": {},
     "output_type": "execute_result"
    },
    {
     "data": {
      "image/png": "[encoded data removed]",
      "text/plain": [
       "<Figure size 432x288 with 1 Axes>"
      ]
     },
     "metadata": {},
     "output_type": "display_data"
    }
   ],
   "source": [
    "plt.plot(history.history['loss'])"
   ]
  },
  {
   "cell_type": "code",
   "execution_count": 64,
   "metadata": {},
   "outputs": [
    {
     "data": {
      "text/plain": [
       "[<matplotlib.lines.Line2D at 0x7f06d4688a20>]"
      ]
     },
     "execution_count": 64,
     "metadata": {},
     "output_type": "execute_result"
    },
    {
     "data": {
      "image/png": "[encoded data removed]",
      "text/plain": [
       "<Figure size 432x288 with 1 Axes>"
      ]
     },
     "metadata": {},
     "output_type": "display_data"
    }
   ],
   "source": [
    "plt.plot(history.history['char_0_loss'], color='blue')\n",
    "plt.plot(history.history['char_1_loss'], color='red')\n",
    "plt.plot(history.history['char_2_loss'], color='green')\n",
    "plt.plot(history.history['char_3_loss'], color='yellow')\n",
    "plt.plot(history.history['char_4_loss'], color='magenta')"
   ]
  },
  {
   "cell_type": "markdown",
   "metadata": {},
   "source": [
    "Evaluate the model on test"
   ]
  },
  {
   "cell_type": "code",
   "execution_count": 50,
   "metadata": {},
   "outputs": [],
   "source": [
    "y_test_pred_labels = np.stack(model.predict(X_test)).swapaxes(0, 1).argmax(axis=2)"
   ]
  },
  {
   "cell_type": "code",
   "execution_count": 51,
   "metadata": {},
   "outputs": [
    {
     "data": {
      "text/plain": [
       "(161, 5)"
      ]
     },
     "execution_count": 51,
     "metadata": {},
     "output_type": "execute_result"
    }
   ],
   "source": [
    "y_test_pred_labels.shape"
   ]
  },
  {
   "cell_type": "code",
   "execution_count": 52,
   "metadata": {},
   "outputs": [
    {
     "data": {
      "text/plain": [
       "array([13, 13, 13, 13, 28])"
      ]
     },
     "execution_count": 52,
     "metadata": {},
     "output_type": "execute_result"
    }
   ],
   "source": [
    "y_test_pred_labels[0,:]"
   ]
  },
  {
   "cell_type": "code",
   "execution_count": 53,
   "metadata": {},
   "outputs": [],
   "source": [
    "y_test_labels = y_test.argmax(axis=2)"
   ]
  },
  {
   "cell_type": "code",
   "execution_count": 54,
   "metadata": {},
   "outputs": [
    {
     "data": {
      "text/plain": [
       "array([31, 22,  3,  3, 22])"
      ]
     },
     "execution_count": 54,
     "metadata": {},
     "output_type": "execute_result"
    }
   ],
   "source": [
    "y_test_labels[0,:]"
   ]
  },
  {
   "cell_type": "markdown",
   "metadata": {},
   "source": [
    "For each prediction, we calculate a score that will be proportional to the number of characters matched with the captcha text correctly <br/>\n",
    "The global score will be an average of such values"
   ]
  },
  {
   "cell_type": "code",
   "execution_count": 62,
   "metadata": {},
   "outputs": [
    {
     "data": {
      "text/plain": [
       "0.09689440993788821"
      ]
     },
     "execution_count": 62,
     "metadata": {},
     "output_type": "execute_result"
    }
   ],
   "source": [
    "np.mean(np.mean(y_test_pred_labels == y_test_labels, axis=1))"
   ]
  },
  {
   "cell_type": "markdown",
   "metadata": {},
   "source": [
    "Also we can calculate the number of predictions that fully matches with the captcha texts and divide it by the number of predictions"
   ]
  },
  {
   "cell_type": "code",
   "execution_count": 69,
   "metadata": {},
   "outputs": [
    {
     "data": {
      "text/plain": [
       "0.0"
      ]
     },
     "execution_count": 69,
     "metadata": {},
     "output_type": "execute_result"
    }
   ],
   "source": [
    "np.mean(np.all(y_test_pred_labels == y_test_labels, axis=1))"
   ]
  },
  {
   "cell_type": "markdown",
   "metadata": {},
   "source": [
    "This model doesnt solve our classification problem very good"
   ]
  },
  {
   "cell_type": "code",
   "execution_count": null,
   "metadata": {},
   "outputs": [],
   "source": []
  }
 ],
 "metadata": {
  "kernelspec": {
   "display_name": "Python 3",
   "language": "python",
   "name": "python3"
  },
  "language_info": {
   "codemirror_mode": {
    "name": "ipython",
    "version": 3
   },
   "file_extension": ".py",
   "mimetype": "text/x-python",
   "name": "python",
   "nbconvert_exporter": "python",
   "pygments_lexer": "ipython3",
   "version": "3.6.5"
  }
 },
 "nbformat": 4,
 "nbformat_minor": 2
}
