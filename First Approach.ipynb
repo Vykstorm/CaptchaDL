{
 "cells": [
  {
   "cell_type": "markdown",
   "metadata": {},
   "source": [
    "## Import statements"
   ]
  },
  {
   "cell_type": "code",
   "execution_count": 81,
   "metadata": {},
   "outputs": [],
   "source": [
    "import matplotlib.pyplot as plt\n",
    "import pandas as pd\n",
    "import numpy as np\n",
    "from math import *\n",
    "import seaborn as sns\n",
    "\n",
    "import keras\n",
    "import keras.backend as K\n",
    "from keras.layers import *\n",
    "from keras.models import Model, Sequential\n",
    "from keras.optimizers import Adam, RMSprop\n",
    "from keras.callbacks import *\n",
    "from utils import train_test_split\n",
    "from keras.losses import categorical_crossentropy\n",
    "from sklearn.metrics import accuracy_score, confusion_matrix\n",
    "from keras.layers import Lambda\n",
    "from keras.backend import slice\n",
    "import tensorflow as tf\n",
    "\n",
    "\n",
    "%matplotlib inline"
   ]
  },
  {
   "cell_type": "markdown",
   "metadata": {},
   "source": [
    "## Load the preprocessed data"
   ]
  },
  {
   "cell_type": "code",
   "execution_count": 48,
   "metadata": {},
   "outputs": [],
   "source": [
    "data = np.load('preprocessed-data.npz')\n",
    "X, y = data['X'], data['y']"
   ]
  },
  {
   "cell_type": "code",
   "execution_count": 3,
   "metadata": {},
   "outputs": [
    {
     "data": {
      "text/plain": [
       "(1070, 50, 200, 1)"
      ]
     },
     "execution_count": 3,
     "metadata": {},
     "output_type": "execute_result"
    }
   ],
   "source": [
    "X.shape"
   ]
  },
  {
   "cell_type": "code",
   "execution_count": 4,
   "metadata": {},
   "outputs": [
    {
     "data": {
      "text/plain": [
       "(1070, 5, 36)"
      ]
     },
     "execution_count": 4,
     "metadata": {},
     "output_type": "execute_result"
    }
   ],
   "source": [
    "y.shape"
   ]
  },
  {
   "cell_type": "code",
   "execution_count": 5,
   "metadata": {},
   "outputs": [],
   "source": [
    "X_train, X_test, y_train, y_test = train_test_split(X, y, test_size=0.15, shuffle=True, random_state=13)"
   ]
  },
  {
   "cell_type": "code",
   "execution_count": 6,
   "metadata": {},
   "outputs": [
    {
     "data": {
      "text/plain": [
       "((909, 50, 200, 1), (161, 50, 200, 1))"
      ]
     },
     "execution_count": 6,
     "metadata": {},
     "output_type": "execute_result"
    }
   ],
   "source": [
    "X_train.shape, X_test.shape"
   ]
  },
  {
   "cell_type": "code",
   "execution_count": 7,
   "metadata": {},
   "outputs": [
    {
     "data": {
      "text/plain": [
       "((909, 5, 36), (161, 5, 36))"
      ]
     },
     "execution_count": 7,
     "metadata": {},
     "output_type": "execute_result"
    }
   ],
   "source": [
    "y_train.shape, y_test.shape"
   ]
  },
  {
   "cell_type": "code",
   "execution_count": 8,
   "metadata": {},
   "outputs": [],
   "source": [
    "X_train, X_test, y_train, y_test = train_test_split(X, y, test_size=0.15, random_state=13)"
   ]
  },
  {
   "cell_type": "code",
   "execution_count": 9,
   "metadata": {},
   "outputs": [
    {
     "data": {
      "text/plain": [
       "((909, 50, 200, 1), (161, 50, 200, 1))"
      ]
     },
     "execution_count": 9,
     "metadata": {},
     "output_type": "execute_result"
    }
   ],
   "source": [
    "X_train.shape, X_test.shape"
   ]
  },
  {
   "cell_type": "code",
   "execution_count": 11,
   "metadata": {},
   "outputs": [
    {
     "data": {
      "text/plain": [
       "((909, 5, 36), (161, 5, 36))"
      ]
     },
     "execution_count": 11,
     "metadata": {},
     "output_type": "execute_result"
    }
   ],
   "source": [
    "y_train.shape, y_test.shape"
   ]
  },
  {
   "cell_type": "markdown",
   "metadata": {},
   "source": [
    "## Build the model"
   ]
  },
  {
   "cell_type": "code",
   "execution_count": 12,
   "metadata": {},
   "outputs": [],
   "source": [
    "t_in = Input(shape=(50, 200, 1))\n",
    "x = t_in\n",
    "\n",
    "x = Conv2D(32, kernel_size=(3, 3), activation='relu', padding='same')(x)\n",
    "x = MaxPool2D((2, 2))(x)\n",
    "x = Dropout(0.4)(x)\n",
    "\n",
    "x = Conv2D(16, kernel_size=(3, 3), activation='relu', padding='same')(x)\n",
    "x = MaxPool2D((2, 2))(x)\n",
    "x = Dropout(0.4)(x)\n",
    "\n",
    "x = Conv2D(16, kernel_size=(3, 3), activation='relu', padding='same')(x)\n",
    "x = MaxPool2D((2, 2))(x)\n",
    "x = Dropout(0.4)(x)\n",
    "\n",
    "t_lstm_in = x\n",
    "t_out = []\n",
    "\n",
    "for k in range(0, 5):\n",
    "    x = Lambda(lambda x: x[:, :, k*5:(k+1)*5,:])(t_lstm_in)\n",
    "    x = Reshape((1, -1))(x)\n",
    "    x = LSTM(64, activation='relu')(x)\n",
    "    x = Dense(48, activation='relu')(x)\n",
    "    x = Dropout(0.5)(x)\n",
    "    x = Dense(36, activation='softmax', name='char_{}'.format(k))(x)\n",
    "    t_out.append(x)\n"
   ]
  },
  {
   "cell_type": "code",
   "execution_count": 13,
   "metadata": {},
   "outputs": [
    {
     "name": "stdout",
     "output_type": "stream",
     "text": [
      "__________________________________________________________________________________________________\n",
      "Layer (type)                    Output Shape         Param #     Connected to                     \n",
      "==================================================================================================\n",
      "input_1 (InputLayer)            (None, 50, 200, 1)   0                                            \n",
      "__________________________________________________________________________________________________\n",
      "conv2d_1 (Conv2D)               (None, 50, 200, 32)  320         input_1[0][0]                    \n",
      "__________________________________________________________________________________________________\n",
      "max_pooling2d_1 (MaxPooling2D)  (None, 25, 100, 32)  0           conv2d_1[0][0]                   \n",
      "__________________________________________________________________________________________________\n",
      "dropout_1 (Dropout)             (None, 25, 100, 32)  0           max_pooling2d_1[0][0]            \n",
      "__________________________________________________________________________________________________\n",
      "conv2d_2 (Conv2D)               (None, 25, 100, 16)  4624        dropout_1[0][0]                  \n",
      "__________________________________________________________________________________________________\n",
      "max_pooling2d_2 (MaxPooling2D)  (None, 12, 50, 16)   0           conv2d_2[0][0]                   \n",
      "__________________________________________________________________________________________________\n",
      "dropout_2 (Dropout)             (None, 12, 50, 16)   0           max_pooling2d_2[0][0]            \n",
      "__________________________________________________________________________________________________\n",
      "conv2d_3 (Conv2D)               (None, 12, 50, 16)   2320        dropout_2[0][0]                  \n",
      "__________________________________________________________________________________________________\n",
      "max_pooling2d_3 (MaxPooling2D)  (None, 6, 25, 16)    0           conv2d_3[0][0]                   \n",
      "__________________________________________________________________________________________________\n",
      "dropout_3 (Dropout)             (None, 6, 25, 16)    0           max_pooling2d_3[0][0]            \n",
      "__________________________________________________________________________________________________\n",
      "lambda_1 (Lambda)               (None, 6, 5, 16)     0           dropout_3[0][0]                  \n",
      "__________________________________________________________________________________________________\n",
      "lambda_2 (Lambda)               (None, 6, 5, 16)     0           dropout_3[0][0]                  \n",
      "__________________________________________________________________________________________________\n",
      "lambda_3 (Lambda)               (None, 6, 5, 16)     0           dropout_3[0][0]                  \n",
      "__________________________________________________________________________________________________\n",
      "lambda_4 (Lambda)               (None, 6, 5, 16)     0           dropout_3[0][0]                  \n",
      "__________________________________________________________________________________________________\n",
      "lambda_5 (Lambda)               (None, 6, 5, 16)     0           dropout_3[0][0]                  \n",
      "__________________________________________________________________________________________________\n",
      "reshape_1 (Reshape)             (None, 1, 480)       0           lambda_1[0][0]                   \n",
      "__________________________________________________________________________________________________\n",
      "reshape_2 (Reshape)             (None, 1, 480)       0           lambda_2[0][0]                   \n",
      "__________________________________________________________________________________________________\n",
      "reshape_3 (Reshape)             (None, 1, 480)       0           lambda_3[0][0]                   \n",
      "__________________________________________________________________________________________________\n",
      "reshape_4 (Reshape)             (None, 1, 480)       0           lambda_4[0][0]                   \n",
      "__________________________________________________________________________________________________\n",
      "reshape_5 (Reshape)             (None, 1, 480)       0           lambda_5[0][0]                   \n",
      "__________________________________________________________________________________________________\n",
      "lstm_1 (LSTM)                   (None, 64)           139520      reshape_1[0][0]                  \n",
      "__________________________________________________________________________________________________\n",
      "lstm_2 (LSTM)                   (None, 64)           139520      reshape_2[0][0]                  \n",
      "__________________________________________________________________________________________________\n",
      "lstm_3 (LSTM)                   (None, 64)           139520      reshape_3[0][0]                  \n",
      "__________________________________________________________________________________________________\n",
      "lstm_4 (LSTM)                   (None, 64)           139520      reshape_4[0][0]                  \n",
      "__________________________________________________________________________________________________\n",
      "lstm_5 (LSTM)                   (None, 64)           139520      reshape_5[0][0]                  \n",
      "__________________________________________________________________________________________________\n",
      "dense_1 (Dense)                 (None, 48)           3120        lstm_1[0][0]                     \n",
      "__________________________________________________________________________________________________\n",
      "dense_2 (Dense)                 (None, 48)           3120        lstm_2[0][0]                     \n",
      "__________________________________________________________________________________________________\n",
      "dense_3 (Dense)                 (None, 48)           3120        lstm_3[0][0]                     \n",
      "__________________________________________________________________________________________________\n",
      "dense_4 (Dense)                 (None, 48)           3120        lstm_4[0][0]                     \n",
      "__________________________________________________________________________________________________\n",
      "dense_5 (Dense)                 (None, 48)           3120        lstm_5[0][0]                     \n",
      "__________________________________________________________________________________________________\n",
      "dropout_4 (Dropout)             (None, 48)           0           dense_1[0][0]                    \n",
      "__________________________________________________________________________________________________\n",
      "dropout_5 (Dropout)             (None, 48)           0           dense_2[0][0]                    \n",
      "__________________________________________________________________________________________________\n",
      "dropout_6 (Dropout)             (None, 48)           0           dense_3[0][0]                    \n",
      "__________________________________________________________________________________________________\n",
      "dropout_7 (Dropout)             (None, 48)           0           dense_4[0][0]                    \n",
      "__________________________________________________________________________________________________\n",
      "dropout_8 (Dropout)             (None, 48)           0           dense_5[0][0]                    \n",
      "__________________________________________________________________________________________________\n",
      "char_0 (Dense)                  (None, 36)           1764        dropout_4[0][0]                  \n",
      "__________________________________________________________________________________________________\n",
      "char_1 (Dense)                  (None, 36)           1764        dropout_5[0][0]                  \n",
      "__________________________________________________________________________________________________\n",
      "char_2 (Dense)                  (None, 36)           1764        dropout_6[0][0]                  \n",
      "__________________________________________________________________________________________________\n",
      "char_3 (Dense)                  (None, 36)           1764        dropout_7[0][0]                  \n",
      "__________________________________________________________________________________________________\n",
      "char_4 (Dense)                  (None, 36)           1764        dropout_8[0][0]                  \n",
      "==================================================================================================\n",
      "Total params: 729,284\n",
      "Trainable params: 729,284\n",
      "Non-trainable params: 0\n",
      "__________________________________________________________________________________________________\n"
     ]
    }
   ],
   "source": [
    "model = Model(inputs=t_in, outputs=t_out)\n",
    "model.summary()"
   ]
  },
  {
   "cell_type": "code",
   "execution_count": 14,
   "metadata": {},
   "outputs": [],
   "source": [
    "model.compile(optimizer='rmsprop', loss='categorical_crossentropy', metrics=['acc'])"
   ]
  },
  {
   "cell_type": "markdown",
   "metadata": {},
   "source": [
    "## Train the model"
   ]
  },
  {
   "cell_type": "code",
   "execution_count": 72,
   "metadata": {},
   "outputs": [
    {
     "name": "stdout",
     "output_type": "stream",
     "text": [
      "Epoch 1/10\n",
      "909/909 [==============================] - 53s 59ms/step - loss: 7.4757 - char_0_loss: 0.6091 - char_1_loss: 0.4401 - char_2_loss: 0.8176 - char_3_loss: 2.7030 - char_4_loss: 2.9059 - char_0_acc: 0.8075 - char_1_acc: 0.8482 - char_2_acc: 0.7668 - char_3_acc: 0.1639 - char_4_acc: 0.1155\n",
      "Epoch 2/10\n",
      "909/909 [==============================] - 53s 58ms/step - loss: 7.4665 - char_0_loss: 0.5273 - char_1_loss: 0.4876 - char_2_loss: 0.8757 - char_3_loss: 2.6710 - char_4_loss: 2.9049 - char_0_acc: 0.8372 - char_1_acc: 0.8559 - char_2_acc: 0.7404 - char_3_acc: 0.1628 - char_4_acc: 0.1155\n",
      "Epoch 3/10\n",
      "909/909 [==============================] - 53s 58ms/step - loss: 7.4623 - char_0_loss: 0.5354 - char_1_loss: 0.5241 - char_2_loss: 0.8201 - char_3_loss: 2.6772 - char_4_loss: 2.9055 - char_0_acc: 0.8262 - char_1_acc: 0.8559 - char_2_acc: 0.7371 - char_3_acc: 0.1804 - char_4_acc: 0.1155\n",
      "Epoch 4/10\n",
      "909/909 [==============================] - 52s 57ms/step - loss: 7.4312 - char_0_loss: 0.5485 - char_1_loss: 0.4412 - char_2_loss: 0.8702 - char_3_loss: 2.6659 - char_4_loss: 2.9054 - char_0_acc: 0.8218 - char_1_acc: 0.8669 - char_2_acc: 0.7404 - char_3_acc: 0.1628 - char_4_acc: 0.1155\n",
      "Epoch 5/10\n",
      "909/909 [==============================] - 52s 58ms/step - loss: 7.3839 - char_0_loss: 0.5506 - char_1_loss: 0.4195 - char_2_loss: 0.8473 - char_3_loss: 2.6613 - char_4_loss: 2.9052 - char_0_acc: 0.8251 - char_1_acc: 0.8724 - char_2_acc: 0.7371 - char_3_acc: 0.1683 - char_4_acc: 0.1155\n",
      "Epoch 6/10\n",
      "909/909 [==============================] - 53s 58ms/step - loss: 7.3127 - char_0_loss: 0.5399 - char_1_loss: 0.4282 - char_2_loss: 0.8026 - char_3_loss: 2.6360 - char_4_loss: 2.9060 - char_0_acc: 0.8229 - char_1_acc: 0.8570 - char_2_acc: 0.7624 - char_3_acc: 0.1815 - char_4_acc: 0.1155\n",
      "Epoch 7/10\n",
      "909/909 [==============================] - 53s 58ms/step - loss: 7.5138 - char_0_loss: 0.5884 - char_1_loss: 0.4943 - char_2_loss: 0.8584 - char_3_loss: 2.6672 - char_4_loss: 2.9055 - char_0_acc: 0.8262 - char_1_acc: 0.8449 - char_2_acc: 0.7294 - char_3_acc: 0.1694 - char_4_acc: 0.1155\n",
      "Epoch 8/10\n",
      "909/909 [==============================] - 53s 58ms/step - loss: 7.4461 - char_0_loss: 0.6041 - char_1_loss: 0.4339 - char_2_loss: 0.8267 - char_3_loss: 2.6757 - char_4_loss: 2.9057 - char_0_acc: 0.8086 - char_1_acc: 0.8779 - char_2_acc: 0.7558 - char_3_acc: 0.1639 - char_4_acc: 0.1155\n",
      "Epoch 9/10\n",
      "909/909 [==============================] - 52s 58ms/step - loss: 7.3603 - char_0_loss: 0.5481 - char_1_loss: 0.4477 - char_2_loss: 0.7913 - char_3_loss: 2.6677 - char_4_loss: 2.9054 - char_0_acc: 0.8152 - char_1_acc: 0.8768 - char_2_acc: 0.7503 - char_3_acc: 0.1639 - char_4_acc: 0.1155\n",
      "Epoch 10/10\n",
      "909/909 [==============================] - 53s 58ms/step - loss: 7.3685 - char_0_loss: 0.5325 - char_1_loss: 0.5166 - char_2_loss: 0.7598 - char_3_loss: 2.6543 - char_4_loss: 2.9053 - char_0_acc: 0.8328 - char_1_acc: 0.8515 - char_2_acc: 0.7855 - char_3_acc: 0.1826 - char_4_acc: 0.1155\n"
     ]
    }
   ],
   "source": [
    "history = model.fit(X_train, [y_train[:, k, :] for k in range(0, 5)], batch_size=2, epochs=10, verbose=True)"
   ]
  },
  {
   "cell_type": "code",
   "execution_count": 88,
   "metadata": {},
   "outputs": [
    {
     "data": {
      "text/plain": [
       "Text(0, 0.5, 'Loss')"
      ]
     },
     "execution_count": 88,
     "metadata": {},
     "output_type": "execute_result"
    },
    {
     "data": {
      "image/png": "[encoded data removed]",
      "text/plain": [
       "<Figure size 432x288 with 1 Axes>"
      ]
     },
     "metadata": {
      "needs_background": "light"
     },
     "output_type": "display_data"
    }
   ],
   "source": [
    "plt.plot(history.history['loss'])\n",
    "plt.title('Loss on each epoch')\n",
    "plt.xlabel('Epoch')\n",
    "plt.ylabel('Loss')"
   ]
  },
  {
   "cell_type": "markdown",
   "metadata": {},
   "source": [
    "## Evaluate the model"
   ]
  },
  {
   "cell_type": "code",
   "execution_count": 75,
   "metadata": {},
   "outputs": [],
   "source": [
    "y_test_pred = model.predict(X_test)"
   ]
  },
  {
   "cell_type": "code",
   "execution_count": 76,
   "metadata": {},
   "outputs": [
    {
     "data": {
      "text/plain": [
       "array([28, 30, 30, 13,  3, 31,  1,  3, 34, 32,  3, 29,  3, 28, 33, 32,  1,\n",
       "        2,  3, 23, 31,  2, 31,  1, 15,  6,  6, 23, 30, 13, 22, 30, 24, 34,\n",
       "       13, 22, 28,  3, 32,  4,  5,  1, 13, 34, 13, 23, 15,  4, 31, 29,  6,\n",
       "       23, 24, 24,  1,  3,  5,  4, 31, 32,  6,  6, 33, 31, 12,  1, 33, 13,\n",
       "       13, 13,  3,  6, 15, 12, 29, 34, 29, 29, 24, 31, 13,  4,  2, 30, 34,\n",
       "        4, 29, 22, 28, 28, 22,  5, 30,  4, 13, 32, 24, 30,  3, 31, 33, 22,\n",
       "        2,  5, 34, 28, 24,  6, 13,  6, 13, 31, 13, 15, 33, 13, 23, 23, 33,\n",
       "       15, 13, 33, 12, 33, 28, 34, 30, 23,  3, 30, 24,  6, 31, 12, 28, 23,\n",
       "       32, 23,  4,  6, 15, 23, 28, 13,  5,  3, 31, 15,  2, 15,  4,  3, 32,\n",
       "       22,  3, 32, 15, 29, 23, 31, 29])"
      ]
     },
     "execution_count": 76,
     "metadata": {},
     "output_type": "execute_result"
    }
   ],
   "source": [
    "np.argmax(y_test_pred[0], axis=1)"
   ]
  },
  {
   "cell_type": "code",
   "execution_count": 86,
   "metadata": {},
   "outputs": [
    {
     "name": "stdout",
     "output_type": "stream",
     "text": [
      "Accuracy scores for each character: [0.957, 0.919, 0.839, 0.155, 0.106]\n"
     ]
    }
   ],
   "source": [
    "scores = [np.mean(np.argmax(y_test_pred[k], axis=1) == np.argmax(y_test[:, k, :], axis=1)) for k in range(0, 5)]\n",
    "print('Accuracy scores for each character: {}'.format([round(score, 3) for score in scores]))"
   ]
  },
  {
   "cell_type": "code",
   "execution_count": 101,
   "metadata": {},
   "outputs": [
    {
     "data": {
      "image/png": "[encoded data removed]",
      "text/plain": [
       "<Figure size 1152x720 with 11 Axes>"
      ]
     },
     "metadata": {
      "needs_background": "light"
     },
     "output_type": "display_data"
    }
   ],
   "source": [
    "fig, ax = plt.subplots(2, 3, figsize=(16, 10))\n",
    "\n",
    "for k in range(0, 5):\n",
    "    plt.sca(ax[k // 3, k % 3])\n",
    "    plt.title('Char at index {}'.format(k))\n",
    "    sns.heatmap(confusion_matrix(np.argmax(y_test_pred[k], axis=1), np.argmax(y_test[:, k, :], axis=1), labels=range(0, 36)))\n",
    "ax[1, 2].set_visible(False)\n",
    "\n",
    "plt.tight_layout()\n",
    "plt.suptitle('Confusion matrices for each char predictions')\n",
    "\n",
    "plt.subplots_adjust(top=0.9)"
   ]
  },
  {
   "cell_type": "code",
   "execution_count": null,
   "metadata": {},
   "outputs": [],
   "source": []
  }
 ],
 "metadata": {
  "kernelspec": {
   "display_name": "Python 3",
   "language": "python",
   "name": "python3"
  },
  "language_info": {
   "codemirror_mode": {
    "name": "ipython",
    "version": 3
   },
   "file_extension": ".py",
   "mimetype": "text/x-python",
   "name": "python",
   "nbconvert_exporter": "python",
   "pygments_lexer": "ipython3",
   "version": "3.6.8"
  }
 },
 "nbformat": 4,
 "nbformat_minor": 2
}
