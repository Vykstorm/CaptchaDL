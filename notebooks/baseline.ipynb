{
 "cells": [
  {
   "cell_type": "markdown",
   "metadata": {},
   "source": [
    "This notebook creates a baseline model that predicts the captchas text with the most frequently characters in the dataset. More elaborated estimators must have a test score better than this model"
   ]
  },
  {
   "cell_type": "markdown",
   "metadata": {},
   "source": [
    "## Import statements"
   ]
  },
  {
   "cell_type": "code",
   "execution_count": 24,
   "metadata": {},
   "outputs": [],
   "source": [
    "import matplotlib.pyplot as plt\n",
    "import pandas as pd\n",
    "import numpy as np\n",
    "import tensorflow as tf\n",
    "from math import *\n",
    "\n",
    "import keras\n",
    "import keras.backend as K\n",
    "from keras.layers import *\n",
    "from keras.models import Model, Sequential\n",
    "from keras.optimizers import Adam, RMSprop\n",
    "from keras.callbacks import *\n",
    "from sklearn.model_selection import train_test_split\n",
    "from keras.losses import categorical_crossentropy\n",
    "from sklearn.metrics import accuracy_score, confusion_matrix\n",
    "from keras.utils import to_categorical"
   ]
  },
  {
   "cell_type": "markdown",
   "metadata": {},
   "source": [
    "## Load preprocessed data"
   ]
  },
  {
   "cell_type": "code",
   "execution_count": 21,
   "metadata": {},
   "outputs": [],
   "source": [
    "data = np.load('preprocessed-data.npz')\n",
    "X, y, ids, alphabet = data['X'], data['y'], data['ids'], data['alphabet']"
   ]
  },
  {
   "cell_type": "markdown",
   "metadata": {},
   "source": [
    "## Evaluate baseline model"
   ]
  },
  {
   "cell_type": "markdown",
   "metadata": {},
   "source": [
    "We are going to take the most frequent char in the dataset"
   ]
  },
  {
   "cell_type": "code",
   "execution_count": 22,
   "metadata": {},
   "outputs": [],
   "source": [
    "ch_label = np.argmax(np.sum(np.sum(y, axis=1), axis=0))"
   ]
  },
  {
   "cell_type": "code",
   "execution_count": 20,
   "metadata": {},
   "outputs": [
    {
     "data": {
      "text/plain": [
       "13"
      ]
     },
     "execution_count": 20,
     "metadata": {},
     "output_type": "execute_result"
    }
   ],
   "source": [
    "ch_label"
   ]
  },
  {
   "cell_type": "code",
   "execution_count": 23,
   "metadata": {},
   "outputs": [
    {
     "data": {
      "text/plain": [
       "'n'"
      ]
     },
     "execution_count": 23,
     "metadata": {},
     "output_type": "execute_result"
    }
   ],
   "source": [
    "alphabet[ch_label]"
   ]
  },
  {
   "cell_type": "markdown",
   "metadata": {},
   "source": [
    "So for example, to evaluate the model on every sample, we predict that the resulting captcha text will be: 'nnnnn'"
   ]
  },
  {
   "cell_type": "code",
   "execution_count": 54,
   "metadata": {},
   "outputs": [],
   "source": [
    "y_pred = to_categorical(ch_label, 36).reshape([1, 36]).repeat(5, axis=0).reshape([1, 5, 36]).repeat(y.shape[0], axis=0)"
   ]
  },
  {
   "cell_type": "code",
   "execution_count": 66,
   "metadata": {},
   "outputs": [
    {
     "name": "stdout",
     "output_type": "stream",
     "text": [
      "Score for the 0th char predictions are: 0.09345794392523364\n",
      "Score for the 1th char predictions are: 0.09532710280373832\n",
      "Score for the 2th char predictions are: 0.10093457943925234\n",
      "Score for the 3th char predictions are: 0.10093457943925234\n",
      "Score for the 4th char predictions are: 0.11401869158878504\n"
     ]
    }
   ],
   "source": [
    "for k in range(0, 5):\n",
    "    print('Score for the {}th char predictions are: {}'.format(\n",
    "         k, np.mean(np.all(y[:, k, :] == y_pred[:, k, :], axis=1))))"
   ]
  },
  {
   "cell_type": "code",
   "execution_count": 82,
   "metadata": {},
   "outputs": [
    {
     "name": "stdout",
     "output_type": "stream",
     "text": [
      "Number of captcha texts fully matched: 0.0\n"
     ]
    }
   ],
   "source": [
    "print('Number of captcha texts fully matched: {}'.format(\n",
    "    np.mean(np.all(np.all(y == y_pred, axis=2), axis=1))))"
   ]
  },
  {
   "cell_type": "code",
   "execution_count": 83,
   "metadata": {},
   "outputs": [
    {
     "name": "stdout",
     "output_type": "stream",
     "text": [
      "Number of captcha texts with only 1 char matched: 0.4130841121495327\n"
     ]
    }
   ],
   "source": [
    "print('Number of captcha texts with only 1 char matched: {}'.format(\n",
    "    np.mean(np.any(np.all(y == y_pred, axis=2), axis=1))))"
   ]
  },
  {
   "cell_type": "code",
   "execution_count": 91,
   "metadata": {},
   "outputs": [
    {
     "name": "stdout",
     "output_type": "stream",
     "text": [
      "Number of captcha texts with only 2 char matched: 0.08130841121495327\n"
     ]
    }
   ],
   "source": [
    "print('Number of captcha texts with only 2 char matched: {}'.format(\n",
    "    np.mean(np.sum(np.all(y == y_pred, axis=2), axis=1) >= 2)))"
   ]
  },
  {
   "cell_type": "code",
   "execution_count": 95,
   "metadata": {},
   "outputs": [
    {
     "name": "stdout",
     "output_type": "stream",
     "text": [
      "Number of captcha texts with only 3 char matched: 0.010280373831775701\n"
     ]
    }
   ],
   "source": [
    "print('Number of captcha texts with only 3 char matched: {}'.format(\n",
    "    np.mean(np.sum(np.all(y == y_pred, axis=2), axis=1) >= 3)))"
   ]
  },
  {
   "cell_type": "code",
   "execution_count": 97,
   "metadata": {},
   "outputs": [
    {
     "name": "stdout",
     "output_type": "stream",
     "text": [
      "Number of captcha texts with only 4 char matched: 0.0\n"
     ]
    }
   ],
   "source": [
    "print('Number of captcha texts with only 4 char matched: {}'.format(\n",
    "    np.mean(np.sum(np.all(y == y_pred, axis=2), axis=1) >= 4)))"
   ]
  },
  {
   "cell_type": "code",
   "execution_count": 93,
   "metadata": {},
   "outputs": [
    {
     "name": "stdout",
     "output_type": "stream",
     "text": [
      "Number of chars matched on each captcha text on average 0.5046728971962616\n"
     ]
    }
   ],
   "source": [
    "print('Number of chars matched on each captcha text on average {}'.format(\n",
    "    np.mean(np.sum(np.all(y == y_pred, axis=2), axis=1))))"
   ]
  },
  {
   "cell_type": "code",
   "execution_count": null,
   "metadata": {},
   "outputs": [],
   "source": []
  }
 ],
 "metadata": {
  "kernelspec": {
   "display_name": "Python 3",
   "language": "python",
   "name": "python3"
  },
  "language_info": {
   "codemirror_mode": {
    "name": "ipython",
    "version": 3
   },
   "file_extension": ".py",
   "mimetype": "text/x-python",
   "name": "python",
   "nbconvert_exporter": "python",
   "pygments_lexer": "ipython3",
   "version": "3.6.8"
  }
 },
 "nbformat": 4,
 "nbformat_minor": 2
}
